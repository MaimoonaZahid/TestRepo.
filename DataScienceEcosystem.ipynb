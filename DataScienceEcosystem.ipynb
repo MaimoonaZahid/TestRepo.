{
 "cells": [
  {
   "cell_type": "markdown",
   "id": "f777e58a-2df3-4f75-b39f-2d450a548314",
   "metadata": {},
   "source": [
    "Data Science and Ecosystem"
   ]
  },
  {
   "cell_type": "markdown",
   "id": "eed487f6-c605-4b55-8d0f-39c0da9149db",
   "metadata": {},
   "source": [
    "In this NoteBook, Data Science Tools and Ecosystem are summmarized."
   ]
  },
  {
   "cell_type": "markdown",
   "id": "b4738f1a-70c8-4f89-b71a-8de62b2313e7",
   "metadata": {},
   "source": [
    "Objectives :\n",
    "Python \n",
    "SQL \n",
    "R"
   ]
  },
  {
   "cell_type": "markdown",
   "id": "26ee6a30-a98a-48c2-873a-1bf008283fd9",
   "metadata": {},
   "source": [
    "Some of the popular languages that Data Scientists use are:\n",
    "Python\n",
    "R\n",
    "SQL"
   ]
  },
  {
   "cell_type": "markdown",
   "id": "05b8fd28-a6b0-41bf-9c82-e72d6bdd598d",
   "metadata": {},
   "source": [
    "Some of the common libraries used by Data Scientists include:\n",
    "NumPy\n",
    "Pandas\n",
    "Matplotlib"
   ]
  },
  {
   "cell_type": "markdown",
   "id": "af016096-c2b1-4e32-9522-ae112b89aabf",
   "metadata": {},
   "source": [
    "Data Science Tools"
   ]
  },
  {
   "cell_type": "markdown",
   "id": "68a39538-62cb-4409-b7dc-d9c0fb7efe4f",
   "metadata": {},
   "source": [
    "Python"
   ]
  },
  {
   "cell_type": "markdown",
   "id": "d3faa612-1512-468f-9e53-f9b81361d7e7",
   "metadata": {},
   "source": [
    "R"
   ]
  },
  {
   "cell_type": "markdown",
   "id": "10028185-b7b5-431b-9370-9bc001767025",
   "metadata": {},
   "source": [
    "Jupyter Notebooks"
   ]
  },
  {
   "cell_type": "markdown",
   "id": "bf8516e0-2f85-4357-9bba-bc9e055b1f2e",
   "metadata": {},
   "source": [
    "Below are a few lines of Evaluating Arithmetic Expressions in Python:\n"
   ]
  },
  {
   "cell_type": "code",
   "execution_count": 6,
   "id": "f708c011-9bf9-4fee-b645-f6b48dd61d7b",
   "metadata": {},
   "outputs": [
    {
     "data": {
      "text/html": [
       "43"
      ],
      "text/latex": [
       "43"
      ],
      "text/markdown": [
       "43"
      ],
      "text/plain": [
       "[1] 43"
      ]
     },
     "metadata": {},
     "output_type": "display_data"
    }
   ],
   "source": [
    "# This will multiply 10 by 4 and then add 3\n",
    "(10 * 4) + 3"
   ]
  },
  {
   "cell_type": "code",
   "execution_count": 7,
   "id": "edc43583-505f-406d-9d9e-31757d867020",
   "metadata": {},
   "outputs": [
    {
     "data": {
      "text/html": [
       "3.33333333333333"
      ],
      "text/latex": [
       "3.33333333333333"
      ],
      "text/markdown": [
       "3.33333333333333"
      ],
      "text/plain": [
       "[1] 3.333333"
      ]
     },
     "metadata": {},
     "output_type": "display_data"
    }
   ],
   "source": [
    "# Convert 200 minutes to hours\n",
    "minutes = 200\n",
    "hours = minutes / 60\n",
    "hours"
   ]
  },
  {
   "cell_type": "code",
   "execution_count": 5,
   "id": "97403ab7-cb9b-45ae-ba86-ec2186fb5572",
   "metadata": {},
   "outputs": [
    {
     "data": {
      "text/html": [
       "17"
      ],
      "text/latex": [
       "17"
      ],
      "text/markdown": [
       "17"
      ],
      "text/plain": [
       "[1] 17"
      ]
     },
     "metadata": {},
     "output_type": "display_data"
    }
   ],
   "source": [
    "# This will multiply 3 by 4 and then add 5\n",
    "(3 * 4) + 5"
   ]
  },
  {
   "cell_type": "markdown",
   "id": "b20ae4d4-5473-449f-ac85-2f431b0f1e86",
   "metadata": {},
   "source": [
    "Author\n",
    "Maimoona Zahid"
   ]
  }
 ],
 "metadata": {
  "kernelspec": {
   "display_name": "R",
   "language": "R",
   "name": "ir"
  },
  "language_info": {
   "codemirror_mode": "r",
   "file_extension": ".r",
   "mimetype": "text/x-r-source",
   "name": "R",
   "pygments_lexer": "r",
   "version": "4.4.2"
  }
 },
 "nbformat": 4,
 "nbformat_minor": 5
}
